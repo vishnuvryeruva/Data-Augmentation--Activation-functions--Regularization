{
  "nbformat": 4,
  "nbformat_minor": 0,
  "metadata": {
    "colab": {
      "name": "Activation Functions.ipynb",
      "provenance": [],
      "authorship_tag": "ABX9TyPTTABaOcFP/oAbKK5zljQu",
      "include_colab_link": true
    },
    "kernelspec": {
      "name": "python3",
      "display_name": "Python 3"
    },
    "language_info": {
      "name": "python"
    }
  },
  "cells": [
    {
      "cell_type": "markdown",
      "metadata": {
        "id": "view-in-github",
        "colab_type": "text"
      },
      "source": [
        "<a href=\"https://colab.research.google.com/github/vishnuvryeruva/Data-Augmentation--Activation-functions--Regularization/blob/main/Activation_Functions.ipynb\" target=\"_parent\"><img src=\"https://colab.research.google.com/assets/colab-badge.svg\" alt=\"Open In Colab\"/></a>"
      ]
    },
    {
      "cell_type": "code",
      "execution_count": 1,
      "metadata": {
        "id": "fmgSyYqXn-EU"
      },
      "outputs": [],
      "source": [
        "import sys\n",
        "assert sys.version_info >= (3, 5)\n",
        "import sklearn\n",
        "assert sklearn.__version__ >= \"0.20\"\n",
        "\n",
        "import numpy as np\n",
        "import os\n",
        "\n",
        "np.random.seed(42)\n",
        "\n",
        "\n",
        "%matplotlib inline\n",
        "import matplotlib as mpl\n",
        "import matplotlib.pyplot as plt\n",
        "mpl.rc('axes', labelsize=14)\n",
        "mpl.rc('xtick', labelsize=12)\n",
        "mpl.rc('ytick', labelsize=12)\n",
        "\n",
        "PROJECT_ROOT_DIR = \".\"\n",
        "CHAPTER_ID = \"deep\"\n",
        "IMAGES_PATH = os.path.join(PROJECT_ROOT_DIR, \"images\", CHAPTER_ID)\n",
        "os.makedirs(IMAGES_PATH, exist_ok=True)\n",
        "\n",
        "def save_fig(fig_id, tight_layout=True, fig_extension=\"png\", resolution=300):\n",
        "    path = os.path.join(IMAGES_PATH, fig_id + \".\" + fig_extension)\n",
        "    print(\"Saving figure\", fig_id)\n",
        "    if tight_layout:\n",
        "        plt.tight_layout()\n",
        "    plt.savefig(path, format=fig_extension, dpi=resolution)"
      ]
    },
    {
      "cell_type": "code",
      "source": [
        "import tensorflow as tf\n",
        "from tensorflow import keras\n",
        "[name for name in dir(keras.initializers) if not name.startswith(\"_\")]"
      ],
      "metadata": {
        "colab": {
          "base_uri": "https://localhost:8080/"
        },
        "id": "C2uZ02jdoTn2",
        "outputId": "f61422f3-8490-4c7c-dbd2-b1bb3663e4bc"
      },
      "execution_count": 2,
      "outputs": [
        {
          "output_type": "execute_result",
          "data": {
            "text/plain": [
              "['Constant',\n",
              " 'GlorotNormal',\n",
              " 'GlorotUniform',\n",
              " 'HeNormal',\n",
              " 'HeUniform',\n",
              " 'Identity',\n",
              " 'Initializer',\n",
              " 'LecunNormal',\n",
              " 'LecunUniform',\n",
              " 'Ones',\n",
              " 'Orthogonal',\n",
              " 'RandomNormal',\n",
              " 'RandomUniform',\n",
              " 'TruncatedNormal',\n",
              " 'VarianceScaling',\n",
              " 'Zeros',\n",
              " 'constant',\n",
              " 'deserialize',\n",
              " 'get',\n",
              " 'glorot_normal',\n",
              " 'glorot_uniform',\n",
              " 'he_normal',\n",
              " 'he_uniform',\n",
              " 'identity',\n",
              " 'lecun_normal',\n",
              " 'lecun_uniform',\n",
              " 'ones',\n",
              " 'orthogonal',\n",
              " 'random_normal',\n",
              " 'random_uniform',\n",
              " 'serialize',\n",
              " 'truncated_normal',\n",
              " 'variance_scaling',\n",
              " 'zeros']"
            ]
          },
          "metadata": {},
          "execution_count": 2
        }
      ]
    },
    {
      "cell_type": "code",
      "source": [
        "keras.layers.Dense(20, activation=\"relu\", kernel_initializer=\"he_normal\")"
      ],
      "metadata": {
        "colab": {
          "base_uri": "https://localhost:8080/"
        },
        "id": "iImJR6R7oWv_",
        "outputId": "e9a70619-6b0b-4318-9903-db78d4238886"
      },
      "execution_count": 3,
      "outputs": [
        {
          "output_type": "execute_result",
          "data": {
            "text/plain": [
              "<keras.layers.core.dense.Dense at 0x7f26c298c6d0>"
            ]
          },
          "metadata": {},
          "execution_count": 3
        }
      ]
    },
    {
      "cell_type": "markdown",
      "source": [
        "Leaky RELU"
      ],
      "metadata": {
        "id": "Ke-jz9Ekob9I"
      }
    },
    {
      "cell_type": "code",
      "source": [
        "(X_train_full, y_train_full), (X_test, y_test) = keras.datasets.fashion_mnist.load_data()\n",
        "X_train_full = X_train_full / 255.0\n",
        "X_test = X_test / 255.0 # Scaling the data \n",
        "X_valid, X_train = X_train_full[:5000], X_train_full[5000:]\n",
        "y_valid, y_train = y_train_full[:5000], y_train_full[5000:]"
      ],
      "metadata": {
        "colab": {
          "base_uri": "https://localhost:8080/"
        },
        "id": "PMHfdnCIoZ7z",
        "outputId": "68b57c87-9d1d-48a7-f5bc-75a0d5dde5ae"
      },
      "execution_count": 4,
      "outputs": [
        {
          "output_type": "stream",
          "name": "stdout",
          "text": [
            "Downloading data from https://storage.googleapis.com/tensorflow/tf-keras-datasets/train-labels-idx1-ubyte.gz\n",
            "32768/29515 [=================================] - 0s 0us/step\n",
            "40960/29515 [=========================================] - 0s 0us/step\n",
            "Downloading data from https://storage.googleapis.com/tensorflow/tf-keras-datasets/train-images-idx3-ubyte.gz\n",
            "26427392/26421880 [==============================] - 0s 0us/step\n",
            "26435584/26421880 [==============================] - 0s 0us/step\n",
            "Downloading data from https://storage.googleapis.com/tensorflow/tf-keras-datasets/t10k-labels-idx1-ubyte.gz\n",
            "16384/5148 [===============================================================================================] - 0s 0us/step\n",
            "Downloading data from https://storage.googleapis.com/tensorflow/tf-keras-datasets/t10k-images-idx3-ubyte.gz\n",
            "4423680/4422102 [==============================] - 0s 0us/step\n",
            "4431872/4422102 [==============================] - 0s 0us/step\n"
          ]
        }
      ]
    },
    {
      "cell_type": "code",
      "source": [
        "tf.random.set_seed(42)\n",
        "np.random.seed(42)\n",
        "model = keras.models.Sequential([\n",
        "    keras.layers.Flatten(input_shape=[28, 28]),\n",
        "    keras.layers.Dense(300, kernel_initializer=\"he_normal\"),\n",
        "    keras.layers.LeakyReLU(),\n",
        "    keras.layers.Dense(100, kernel_initializer=\"he_normal\"),\n",
        "    keras.layers.LeakyReLU(),\n",
        "    keras.layers.Dense(10, activation=\"softmax\")\n",
        "])"
      ],
      "metadata": {
        "id": "z7aRCrEzoskM"
      },
      "execution_count": 5,
      "outputs": []
    },
    {
      "cell_type": "code",
      "source": [
        "model.compile(loss=\"sparse_categorical_crossentropy\",\n",
        "              optimizer=keras.optimizers.SGD(learning_rate=1e-3),\n",
        "              metrics=[\"accuracy\"])"
      ],
      "metadata": {
        "id": "kKFaDhEPpEgZ"
      },
      "execution_count": 6,
      "outputs": []
    },
    {
      "cell_type": "code",
      "source": [
        "history = model.fit(X_train, y_train, epochs=15,\n",
        "                    validation_data=(X_valid, y_valid))"
      ],
      "metadata": {
        "colab": {
          "base_uri": "https://localhost:8080/"
        },
        "id": "-2gw15UnpGpa",
        "outputId": "7d4c5e96-b4c6-4dcf-9703-a84b2ded7826"
      },
      "execution_count": 7,
      "outputs": [
        {
          "output_type": "stream",
          "name": "stdout",
          "text": [
            "Epoch 1/15\n",
            "1719/1719 [==============================] - 9s 5ms/step - loss: 1.2819 - accuracy: 0.6229 - val_loss: 0.8886 - val_accuracy: 0.7160\n",
            "Epoch 2/15\n",
            "1719/1719 [==============================] - 7s 4ms/step - loss: 0.7955 - accuracy: 0.7361 - val_loss: 0.7130 - val_accuracy: 0.7656\n",
            "Epoch 3/15\n",
            "1719/1719 [==============================] - 6s 4ms/step - loss: 0.6816 - accuracy: 0.7721 - val_loss: 0.6427 - val_accuracy: 0.7900\n",
            "Epoch 4/15\n",
            "1719/1719 [==============================] - 7s 4ms/step - loss: 0.6217 - accuracy: 0.7944 - val_loss: 0.5900 - val_accuracy: 0.8064\n",
            "Epoch 5/15\n",
            "1719/1719 [==============================] - 7s 4ms/step - loss: 0.5832 - accuracy: 0.8074 - val_loss: 0.5582 - val_accuracy: 0.8200\n",
            "Epoch 6/15\n",
            "1719/1719 [==============================] - 8s 4ms/step - loss: 0.5553 - accuracy: 0.8156 - val_loss: 0.5350 - val_accuracy: 0.8238\n",
            "Epoch 7/15\n",
            "1719/1719 [==============================] - 7s 4ms/step - loss: 0.5339 - accuracy: 0.8223 - val_loss: 0.5156 - val_accuracy: 0.8302\n",
            "Epoch 8/15\n",
            "1719/1719 [==============================] - 6s 4ms/step - loss: 0.5173 - accuracy: 0.8272 - val_loss: 0.5079 - val_accuracy: 0.8284\n",
            "Epoch 9/15\n",
            "1719/1719 [==============================] - 7s 4ms/step - loss: 0.5040 - accuracy: 0.8290 - val_loss: 0.4895 - val_accuracy: 0.8386\n",
            "Epoch 10/15\n",
            "1719/1719 [==============================] - 6s 4ms/step - loss: 0.4924 - accuracy: 0.8319 - val_loss: 0.4817 - val_accuracy: 0.8396\n",
            "Epoch 11/15\n",
            "1719/1719 [==============================] - 6s 4ms/step - loss: 0.4827 - accuracy: 0.8354 - val_loss: 0.4718 - val_accuracy: 0.8448\n",
            "Epoch 12/15\n",
            "1719/1719 [==============================] - 6s 4ms/step - loss: 0.4743 - accuracy: 0.8369 - val_loss: 0.4655 - val_accuracy: 0.8464\n",
            "Epoch 13/15\n",
            "1719/1719 [==============================] - 6s 4ms/step - loss: 0.4672 - accuracy: 0.8398 - val_loss: 0.4588 - val_accuracy: 0.8462\n",
            "Epoch 14/15\n",
            "1719/1719 [==============================] - 6s 4ms/step - loss: 0.4607 - accuracy: 0.8414 - val_loss: 0.4548 - val_accuracy: 0.8478\n",
            "Epoch 15/15\n",
            "1719/1719 [==============================] - 7s 4ms/step - loss: 0.4549 - accuracy: 0.8428 - val_loss: 0.4476 - val_accuracy: 0.8498\n"
          ]
        }
      ]
    },
    {
      "cell_type": "markdown",
      "source": [
        "PRELU"
      ],
      "metadata": {
        "id": "yFfulbxhpKwR"
      }
    },
    {
      "cell_type": "code",
      "source": [
        "model.compile(loss=\"sparse_categorical_crossentropy\",\n",
        "              optimizer=keras.optimizers.SGD(learning_rate=1e-3),\n",
        "              metrics=[\"accuracy\"])"
      ],
      "metadata": {
        "id": "J_H47V4KpIjR"
      },
      "execution_count": 8,
      "outputs": []
    },
    {
      "cell_type": "code",
      "source": [
        "tf.random.set_seed(42)\n",
        "np.random.seed(42)\n",
        "\n",
        "model = keras.models.Sequential([\n",
        "    keras.layers.Flatten(input_shape=[28, 28]),\n",
        "    keras.layers.Dense(300, kernel_initializer=\"he_normal\"),\n",
        "    keras.layers.PReLU(),\n",
        "    keras.layers.Dense(100, kernel_initializer=\"he_normal\"),\n",
        "    keras.layers.PReLU(),\n",
        "    keras.layers.Dense(10, activation=\"softmax\")\n",
        "])"
      ],
      "metadata": {
        "id": "YZDVQOQfpOyO"
      },
      "execution_count": 9,
      "outputs": []
    },
    {
      "cell_type": "code",
      "source": [
        "tf.random.set_seed(42)\n",
        "np.random.seed(42)\n",
        "# Creating the sequential model and adding different layers \n",
        "model = keras.models.Sequential([\n",
        "    keras.layers.Flatten(input_shape=[28, 28]),\n",
        "    keras.layers.Dense(300, kernel_initializer=\"he_normal\"),\n",
        "    keras.layers.PReLU(),\n",
        "    keras.layers.Dense(100, kernel_initializer=\"he_normal\"),\n",
        "    keras.layers.PReLU(),\n",
        "    keras.layers.Dense(10, activation=\"softmax\")\n",
        "])"
      ],
      "metadata": {
        "id": "zpw_Po8npSye"
      },
      "execution_count": 10,
      "outputs": []
    },
    {
      "cell_type": "code",
      "source": [
        "model.compile(loss=\"sparse_categorical_crossentropy\",\n",
        "              optimizer=keras.optimizers.SGD(learning_rate=1e-3),\n",
        "              metrics=[\"accuracy\"])"
      ],
      "metadata": {
        "id": "RFVOKsiWpg0w"
      },
      "execution_count": 11,
      "outputs": []
    },
    {
      "cell_type": "code",
      "source": [
        "history = model.fit(X_train, y_train, epochs=15,\n",
        "                    validation_data=(X_valid, y_valid))"
      ],
      "metadata": {
        "colab": {
          "base_uri": "https://localhost:8080/"
        },
        "id": "skFSdSNgpixW",
        "outputId": "6e15bc01-0bf0-47fe-e996-4f2566ff5256"
      },
      "execution_count": 12,
      "outputs": [
        {
          "output_type": "stream",
          "name": "stdout",
          "text": [
            "Epoch 1/15\n",
            "1719/1719 [==============================] - 8s 4ms/step - loss: 1.3461 - accuracy: 0.6209 - val_loss: 0.9255 - val_accuracy: 0.7186\n",
            "Epoch 2/15\n",
            "1719/1719 [==============================] - 7s 4ms/step - loss: 0.8197 - accuracy: 0.7355 - val_loss: 0.7305 - val_accuracy: 0.7628\n",
            "Epoch 3/15\n",
            "1719/1719 [==============================] - 7s 4ms/step - loss: 0.6966 - accuracy: 0.7694 - val_loss: 0.6565 - val_accuracy: 0.7878\n",
            "Epoch 4/15\n",
            "1719/1719 [==============================] - 7s 4ms/step - loss: 0.6331 - accuracy: 0.7909 - val_loss: 0.6003 - val_accuracy: 0.8046\n",
            "Epoch 5/15\n",
            "1719/1719 [==============================] - 7s 4ms/step - loss: 0.5917 - accuracy: 0.8057 - val_loss: 0.5656 - val_accuracy: 0.8180\n",
            "Epoch 6/15\n",
            "1719/1719 [==============================] - 8s 4ms/step - loss: 0.5618 - accuracy: 0.8134 - val_loss: 0.5406 - val_accuracy: 0.8238\n",
            "Epoch 7/15\n",
            "1719/1719 [==============================] - 8s 4ms/step - loss: 0.5390 - accuracy: 0.8205 - val_loss: 0.5196 - val_accuracy: 0.8312\n",
            "Epoch 8/15\n",
            "1719/1719 [==============================] - 7s 4ms/step - loss: 0.5213 - accuracy: 0.8257 - val_loss: 0.5113 - val_accuracy: 0.8318\n",
            "Epoch 9/15\n",
            "1719/1719 [==============================] - 7s 4ms/step - loss: 0.5070 - accuracy: 0.8289 - val_loss: 0.4916 - val_accuracy: 0.8378\n",
            "Epoch 10/15\n",
            "1719/1719 [==============================] - 7s 4ms/step - loss: 0.4945 - accuracy: 0.8315 - val_loss: 0.4826 - val_accuracy: 0.8396\n",
            "Epoch 11/15\n",
            "1719/1719 [==============================] - 7s 4ms/step - loss: 0.4839 - accuracy: 0.8352 - val_loss: 0.4724 - val_accuracy: 0.8442\n",
            "Epoch 12/15\n",
            "1719/1719 [==============================] - 7s 4ms/step - loss: 0.4748 - accuracy: 0.8369 - val_loss: 0.4654 - val_accuracy: 0.8452\n",
            "Epoch 13/15\n",
            "1719/1719 [==============================] - 7s 4ms/step - loss: 0.4670 - accuracy: 0.8400 - val_loss: 0.4583 - val_accuracy: 0.8482\n",
            "Epoch 14/15\n",
            "1719/1719 [==============================] - 8s 5ms/step - loss: 0.4599 - accuracy: 0.8412 - val_loss: 0.4544 - val_accuracy: 0.8474\n",
            "Epoch 15/15\n",
            "1719/1719 [==============================] - 8s 5ms/step - loss: 0.4536 - accuracy: 0.8434 - val_loss: 0.4456 - val_accuracy: 0.8514\n"
          ]
        }
      ]
    },
    {
      "cell_type": "markdown",
      "source": [
        "SELU"
      ],
      "metadata": {
        "id": "k7cmkSAcpnOZ"
      }
    },
    {
      "cell_type": "code",
      "source": [
        "np.random.seed(42)\n",
        "tf.random.set_seed(42)"
      ],
      "metadata": {
        "id": "cRA7V152pkq6"
      },
      "execution_count": 13,
      "outputs": []
    },
    {
      "cell_type": "code",
      "source": [
        "model = keras.models.Sequential()\n",
        "model.add(keras.layers.Flatten(input_shape=[28, 28]))\n",
        "model.add(keras.layers.Dense(300, activation=\"selu\",\n",
        "                             kernel_initializer=\"lecun_normal\"))\n",
        "for layer in range(50):\n",
        "    model.add(keras.layers.Dense(100, activation=\"selu\",\n",
        "                                 kernel_initializer=\"lecun_normal\"))\n",
        "model.add(keras.layers.Dense(10, activation=\"softmax\"))"
      ],
      "metadata": {
        "id": "xMikUfg6pqXW"
      },
      "execution_count": 14,
      "outputs": []
    },
    {
      "cell_type": "code",
      "source": [
        "pixel_means = X_train.mean(axis=0, keepdims=True)\n",
        "pixel_stds = X_train.std(axis=0, keepdims=True)\n",
        "X_train_scaled = (X_train - pixel_means) / pixel_stds\n",
        "X_valid_scaled = (X_valid - pixel_means) / pixel_stds\n",
        "X_test_scaled = (X_test - pixel_means) / pixel_stds"
      ],
      "metadata": {
        "id": "jS71rARZpsNI"
      },
      "execution_count": 15,
      "outputs": []
    },
    {
      "cell_type": "code",
      "source": [
        "model.compile(loss=\"sparse_categorical_crossentropy\",\n",
        "              optimizer=keras.optimizers.SGD(learning_rate=1e-3),\n",
        "              metrics=[\"accuracy\"])"
      ],
      "metadata": {
        "id": "4rJMRYLupuwh"
      },
      "execution_count": 16,
      "outputs": []
    },
    {
      "cell_type": "code",
      "source": [
        "history = model.fit(X_train_scaled, y_train, epochs=15,\n",
        "                    validation_data=(X_valid_scaled, y_valid))"
      ],
      "metadata": {
        "colab": {
          "base_uri": "https://localhost:8080/"
        },
        "id": "KXMy7oIvpwnS",
        "outputId": "cbdc81eb-5001-4e45-8cd1-7000cd489ef0"
      },
      "execution_count": 17,
      "outputs": [
        {
          "output_type": "stream",
          "name": "stdout",
          "text": [
            "Epoch 1/15\n",
            "1719/1719 [==============================] - 22s 12ms/step - loss: 0.7413 - accuracy: 0.7408 - val_loss: 0.5305 - val_accuracy: 0.8132\n",
            "Epoch 2/15\n",
            "1719/1719 [==============================] - 21s 12ms/step - loss: 0.4982 - accuracy: 0.8238 - val_loss: 0.4604 - val_accuracy: 0.8372\n",
            "Epoch 3/15\n",
            "1719/1719 [==============================] - 19s 11ms/step - loss: 0.4392 - accuracy: 0.8439 - val_loss: 0.4341 - val_accuracy: 0.8420\n",
            "Epoch 4/15\n",
            "1719/1719 [==============================] - 19s 11ms/step - loss: 0.4004 - accuracy: 0.8567 - val_loss: 0.4036 - val_accuracy: 0.8546\n",
            "Epoch 5/15\n",
            "1719/1719 [==============================] - 19s 11ms/step - loss: 0.3744 - accuracy: 0.8657 - val_loss: 0.3839 - val_accuracy: 0.8608\n",
            "Epoch 6/15\n",
            "1719/1719 [==============================] - 19s 11ms/step - loss: 0.3530 - accuracy: 0.8721 - val_loss: 0.3949 - val_accuracy: 0.8620\n",
            "Epoch 7/15\n",
            "1719/1719 [==============================] - 22s 13ms/step - loss: 0.3344 - accuracy: 0.8790 - val_loss: 0.3716 - val_accuracy: 0.8680\n",
            "Epoch 8/15\n",
            "1719/1719 [==============================] - 20s 12ms/step - loss: 0.3206 - accuracy: 0.8838 - val_loss: 0.3905 - val_accuracy: 0.8618\n",
            "Epoch 9/15\n",
            "1719/1719 [==============================] - 19s 11ms/step - loss: 0.3089 - accuracy: 0.8876 - val_loss: 0.3632 - val_accuracy: 0.8702\n",
            "Epoch 10/15\n",
            "1719/1719 [==============================] - 19s 11ms/step - loss: 0.2946 - accuracy: 0.8920 - val_loss: 0.3719 - val_accuracy: 0.8682\n",
            "Epoch 11/15\n",
            "1719/1719 [==============================] - 19s 11ms/step - loss: 0.2857 - accuracy: 0.8955 - val_loss: 0.3535 - val_accuracy: 0.8750\n",
            "Epoch 12/15\n",
            "1719/1719 [==============================] - 20s 11ms/step - loss: 0.2763 - accuracy: 0.8989 - val_loss: 0.3610 - val_accuracy: 0.8736\n",
            "Epoch 13/15\n",
            "1719/1719 [==============================] - 19s 11ms/step - loss: 0.2663 - accuracy: 0.9012 - val_loss: 0.3636 - val_accuracy: 0.8724\n",
            "Epoch 14/15\n",
            "1719/1719 [==============================] - 21s 13ms/step - loss: 0.2583 - accuracy: 0.9054 - val_loss: 0.3555 - val_accuracy: 0.8766\n",
            "Epoch 15/15\n",
            "1719/1719 [==============================] - 19s 11ms/step - loss: 0.2504 - accuracy: 0.9066 - val_loss: 0.3828 - val_accuracy: 0.8668\n"
          ]
        }
      ]
    },
    {
      "cell_type": "markdown",
      "source": [
        "Batch Normalization\n",
        "\n",
        "It is a process to make neural networks faster and more stable through adding extra layers in a deep neural network. It also is responsible for reducing the number of epochs required to train the model"
      ],
      "metadata": {
        "id": "ttkVDuXJp01e"
      }
    },
    {
      "cell_type": "code",
      "source": [
        "model = keras.models.Sequential([\n",
        "    keras.layers.Flatten(input_shape=[28, 28]),\n",
        "    keras.layers.BatchNormalization(),\n",
        "    keras.layers.Dense(300, use_bias=False),\n",
        "    keras.layers.BatchNormalization(),\n",
        "    keras.layers.Activation(\"relu\"),\n",
        "    keras.layers.Dense(100, use_bias=False),\n",
        "    keras.layers.BatchNormalization(),\n",
        "    keras.layers.Activation(\"relu\"),\n",
        "    keras.layers.Dense(10, activation=\"softmax\")\n",
        "])"
      ],
      "metadata": {
        "id": "mYzhywIDpyMz"
      },
      "execution_count": 18,
      "outputs": []
    },
    {
      "cell_type": "code",
      "source": [
        "model.compile(loss=\"sparse_categorical_crossentropy\",\n",
        "              optimizer=keras.optimizers.SGD(learning_rate=1e-3),\n",
        "              metrics=[\"accuracy\"])"
      ],
      "metadata": {
        "id": "21nUsahWp4qA"
      },
      "execution_count": 19,
      "outputs": []
    },
    {
      "cell_type": "code",
      "source": [
        "history = model.fit(X_train, y_train, epochs=15,\n",
        "                    validation_data=(X_valid, y_valid))"
      ],
      "metadata": {
        "colab": {
          "base_uri": "https://localhost:8080/"
        },
        "id": "kNZG4N9Fp6hf",
        "outputId": "84b26398-ede2-4640-9981-91f77557b38c"
      },
      "execution_count": 20,
      "outputs": [
        {
          "output_type": "stream",
          "name": "stdout",
          "text": [
            "Epoch 1/15\n",
            "1719/1719 [==============================] - 16s 9ms/step - loss: 0.9993 - accuracy: 0.6835 - val_loss: 0.6604 - val_accuracy: 0.7914\n",
            "Epoch 2/15\n",
            "1719/1719 [==============================] - 11s 7ms/step - loss: 0.6693 - accuracy: 0.7833 - val_loss: 0.5487 - val_accuracy: 0.8216\n",
            "Epoch 3/15\n",
            "1719/1719 [==============================] - 10s 6ms/step - loss: 0.5903 - accuracy: 0.8038 - val_loss: 0.4964 - val_accuracy: 0.8388\n",
            "Epoch 4/15\n",
            "1719/1719 [==============================] - 11s 6ms/step - loss: 0.5412 - accuracy: 0.8177 - val_loss: 0.4639 - val_accuracy: 0.8430\n",
            "Epoch 5/15\n",
            "1719/1719 [==============================] - 12s 7ms/step - loss: 0.5083 - accuracy: 0.8268 - val_loss: 0.4423 - val_accuracy: 0.8516\n",
            "Epoch 6/15\n",
            "1719/1719 [==============================] - 12s 7ms/step - loss: 0.4868 - accuracy: 0.8335 - val_loss: 0.4254 - val_accuracy: 0.8556\n",
            "Epoch 7/15\n",
            "1719/1719 [==============================] - 11s 6ms/step - loss: 0.4694 - accuracy: 0.8397 - val_loss: 0.4115 - val_accuracy: 0.8592\n",
            "Epoch 8/15\n",
            "1719/1719 [==============================] - 12s 7ms/step - loss: 0.4554 - accuracy: 0.8419 - val_loss: 0.4025 - val_accuracy: 0.8608\n",
            "Epoch 9/15\n",
            "1719/1719 [==============================] - 11s 6ms/step - loss: 0.4430 - accuracy: 0.8473 - val_loss: 0.3934 - val_accuracy: 0.8638\n",
            "Epoch 10/15\n",
            "1719/1719 [==============================] - 12s 7ms/step - loss: 0.4306 - accuracy: 0.8500 - val_loss: 0.3854 - val_accuracy: 0.8646\n",
            "Epoch 11/15\n",
            "1719/1719 [==============================] - 11s 7ms/step - loss: 0.4208 - accuracy: 0.8546 - val_loss: 0.3784 - val_accuracy: 0.8660\n",
            "Epoch 12/15\n",
            "1719/1719 [==============================] - 10s 6ms/step - loss: 0.4155 - accuracy: 0.8556 - val_loss: 0.3732 - val_accuracy: 0.8672\n",
            "Epoch 13/15\n",
            "1719/1719 [==============================] - 11s 6ms/step - loss: 0.4062 - accuracy: 0.8576 - val_loss: 0.3678 - val_accuracy: 0.8680\n",
            "Epoch 14/15\n",
            "1719/1719 [==============================] - 12s 7ms/step - loss: 0.3987 - accuracy: 0.8601 - val_loss: 0.3636 - val_accuracy: 0.8700\n",
            "Epoch 15/15\n",
            "1719/1719 [==============================] - 12s 7ms/step - loss: 0.3914 - accuracy: 0.8629 - val_loss: 0.3597 - val_accuracy: 0.8702\n"
          ]
        }
      ]
    },
    {
      "cell_type": "markdown",
      "source": [
        "Gradient Clipping"
      ],
      "metadata": {
        "id": "xfKiriZUp_Fz"
      }
    },
    {
      "cell_type": "code",
      "source": [
        "optimizer = keras.optimizers.SGD(clipvalue=1.0)"
      ],
      "metadata": {
        "id": "GvFaJtvUp8MF"
      },
      "execution_count": 21,
      "outputs": []
    },
    {
      "cell_type": "code",
      "source": [
        "optimizer = keras.optimizers.SGD(clipnorm=1.0)"
      ],
      "metadata": {
        "id": "1ic3ah3lqBwp"
      },
      "execution_count": 22,
      "outputs": []
    },
    {
      "cell_type": "code",
      "source": [
        "model = keras.models.Sequential([\n",
        "    keras.layers.Flatten(input_shape=[28, 28]),\n",
        "    keras.layers.BatchNormalization(),\n",
        "    keras.layers.Dense(300, use_bias=False),\n",
        "    keras.layers.BatchNormalization(),\n",
        "    keras.layers.Activation(\"relu\"),\n",
        "    keras.layers.Dense(100, use_bias=False),\n",
        "    keras.layers.BatchNormalization(),\n",
        "    keras.layers.Activation(\"relu\"),\n",
        "    keras.layers.Dense(10, activation=\"softmax\")\n",
        "])"
      ],
      "metadata": {
        "id": "v8szX6k9qDYy"
      },
      "execution_count": 23,
      "outputs": []
    },
    {
      "cell_type": "code",
      "source": [
        "model.compile(loss=\"sparse_categorical_crossentropy\",\n",
        "              optimizer=keras.optimizers.SGD(learning_rate=1e-3,clipvalue=1.0),\n",
        "              metrics=[\"accuracy\"])"
      ],
      "metadata": {
        "id": "fUBzYxhsqFQr"
      },
      "execution_count": 24,
      "outputs": []
    },
    {
      "cell_type": "code",
      "source": [
        "history = model.fit(X_train, y_train, epochs=15,\n",
        "                    validation_data=(X_valid, y_valid))"
      ],
      "metadata": {
        "colab": {
          "base_uri": "https://localhost:8080/"
        },
        "id": "gS8TgN34qH7G",
        "outputId": "3dafd2de-8406-4167-d9e0-69bf11f5ab19"
      },
      "execution_count": 25,
      "outputs": [
        {
          "output_type": "stream",
          "name": "stdout",
          "text": [
            "Epoch 1/15\n",
            "1719/1719 [==============================] - 12s 6ms/step - loss: 1.0326 - accuracy: 0.6746 - val_loss: 0.6582 - val_accuracy: 0.7900\n",
            "Epoch 2/15\n",
            "1719/1719 [==============================] - 10s 6ms/step - loss: 0.6592 - accuracy: 0.7863 - val_loss: 0.5429 - val_accuracy: 0.8202\n",
            "Epoch 3/15\n",
            "1719/1719 [==============================] - 11s 6ms/step - loss: 0.5817 - accuracy: 0.8064 - val_loss: 0.4910 - val_accuracy: 0.8364\n",
            "Epoch 4/15\n",
            "1719/1719 [==============================] - 11s 6ms/step - loss: 0.5321 - accuracy: 0.8200 - val_loss: 0.4576 - val_accuracy: 0.8454\n",
            "Epoch 5/15\n",
            "1719/1719 [==============================] - 11s 6ms/step - loss: 0.4999 - accuracy: 0.8289 - val_loss: 0.4368 - val_accuracy: 0.8512\n",
            "Epoch 6/15\n",
            "1719/1719 [==============================] - 12s 7ms/step - loss: 0.4789 - accuracy: 0.8356 - val_loss: 0.4205 - val_accuracy: 0.8556\n",
            "Epoch 7/15\n",
            "1719/1719 [==============================] - 12s 7ms/step - loss: 0.4629 - accuracy: 0.8407 - val_loss: 0.4075 - val_accuracy: 0.8590\n",
            "Epoch 8/15\n",
            "1719/1719 [==============================] - 11s 7ms/step - loss: 0.4492 - accuracy: 0.8438 - val_loss: 0.3981 - val_accuracy: 0.8640\n",
            "Epoch 9/15\n",
            "1719/1719 [==============================] - 11s 6ms/step - loss: 0.4358 - accuracy: 0.8495 - val_loss: 0.3899 - val_accuracy: 0.8628\n",
            "Epoch 10/15\n",
            "1719/1719 [==============================] - 11s 6ms/step - loss: 0.4261 - accuracy: 0.8529 - val_loss: 0.3820 - val_accuracy: 0.8650\n",
            "Epoch 11/15\n",
            "1719/1719 [==============================] - 11s 6ms/step - loss: 0.4166 - accuracy: 0.8563 - val_loss: 0.3751 - val_accuracy: 0.8692\n",
            "Epoch 12/15\n",
            "1719/1719 [==============================] - 10s 6ms/step - loss: 0.4103 - accuracy: 0.8565 - val_loss: 0.3712 - val_accuracy: 0.8680\n",
            "Epoch 13/15\n",
            "1719/1719 [==============================] - 11s 6ms/step - loss: 0.4022 - accuracy: 0.8591 - val_loss: 0.3653 - val_accuracy: 0.8704\n",
            "Epoch 14/15\n",
            "1719/1719 [==============================] - 11s 6ms/step - loss: 0.3939 - accuracy: 0.8618 - val_loss: 0.3618 - val_accuracy: 0.8708\n",
            "Epoch 15/15\n",
            "1719/1719 [==============================] - 11s 6ms/step - loss: 0.3870 - accuracy: 0.8638 - val_loss: 0.3584 - val_accuracy: 0.8736\n"
          ]
        }
      ]
    },
    {
      "cell_type": "markdown",
      "source": [
        "Optimizers"
      ],
      "metadata": {
        "id": "StW2TKYZqLa6"
      }
    },
    {
      "cell_type": "code",
      "source": [
        "optimizer = keras.optimizers.Adam(learning_rate=0.001, beta_1=0.9, beta_2=0.999)"
      ],
      "metadata": {
        "id": "9_XgTxRWqJk9"
      },
      "execution_count": 26,
      "outputs": []
    },
    {
      "cell_type": "code",
      "source": [
        "optimizer = keras.optimizers.Nadam(learning_rate=0.001, beta_1=0.9, beta_2=0.999)"
      ],
      "metadata": {
        "id": "9aW3xDc4qQyP"
      },
      "execution_count": 27,
      "outputs": []
    },
    {
      "cell_type": "code",
      "source": [
        "optimizer = keras.optimizers.RMSprop(learning_rate=0.001, rho=0.9)"
      ],
      "metadata": {
        "id": "Pk_lUj_2qTfM"
      },
      "execution_count": 28,
      "outputs": []
    },
    {
      "cell_type": "code",
      "source": [
        "optimizer = keras.optimizers.Adamax(learning_rate=0.001, beta_1=0.9, beta_2=0.999)"
      ],
      "metadata": {
        "id": "2usa_qTXqVKB"
      },
      "execution_count": 29,
      "outputs": []
    },
    {
      "cell_type": "markdown",
      "source": [
        "Learning Rate Scheduling"
      ],
      "metadata": {
        "id": "bEjygJUJqatv"
      }
    },
    {
      "cell_type": "code",
      "source": [
        "optimizer = keras.optimizers.SGD(learning_rate=0.01, decay=1e-4)"
      ],
      "metadata": {
        "id": "lf2VBmLDqbdV"
      },
      "execution_count": 30,
      "outputs": []
    },
    {
      "cell_type": "code",
      "source": [
        "model = keras.models.Sequential([\n",
        "    keras.layers.Flatten(input_shape=[28, 28]),\n",
        "    keras.layers.Dense(300, activation=\"selu\", kernel_initializer=\"lecun_normal\"),\n",
        "    keras.layers.Dense(100, activation=\"selu\", kernel_initializer=\"lecun_normal\"),\n",
        "    keras.layers.Dense(10, activation=\"softmax\")\n",
        "])\n",
        "model.compile(loss=\"sparse_categorical_crossentropy\", optimizer=optimizer, metrics=[\"accuracy\"])"
      ],
      "metadata": {
        "id": "KptVNEJLqdox"
      },
      "execution_count": 31,
      "outputs": []
    },
    {
      "cell_type": "code",
      "source": [
        "n_epochs = 30\n",
        "history = model.fit(X_train_scaled, y_train, epochs=n_epochs,\n",
        "                    validation_data=(X_valid_scaled, y_valid))"
      ],
      "metadata": {
        "colab": {
          "base_uri": "https://localhost:8080/"
        },
        "id": "5GaGYGTEqhZ9",
        "outputId": "52b253f3-a1d5-487a-b1ac-77c3d1f3d6cb"
      },
      "execution_count": 32,
      "outputs": [
        {
          "output_type": "stream",
          "name": "stdout",
          "text": [
            "Epoch 1/30\n",
            "1719/1719 [==============================] - 7s 4ms/step - loss: 0.4917 - accuracy: 0.8255 - val_loss: 0.4083 - val_accuracy: 0.8570\n",
            "Epoch 2/30\n",
            "1719/1719 [==============================] - 6s 4ms/step - loss: 0.3815 - accuracy: 0.8649 - val_loss: 0.3746 - val_accuracy: 0.8696\n",
            "Epoch 3/30\n",
            "1719/1719 [==============================] - 6s 4ms/step - loss: 0.3479 - accuracy: 0.8768 - val_loss: 0.3811 - val_accuracy: 0.8690\n",
            "Epoch 4/30\n",
            "1719/1719 [==============================] - 6s 4ms/step - loss: 0.3270 - accuracy: 0.8833 - val_loss: 0.3541 - val_accuracy: 0.8704\n",
            "Epoch 5/30\n",
            "1719/1719 [==============================] - 6s 4ms/step - loss: 0.3120 - accuracy: 0.8889 - val_loss: 0.3484 - val_accuracy: 0.8738\n",
            "Epoch 6/30\n",
            "1719/1719 [==============================] - 7s 4ms/step - loss: 0.2983 - accuracy: 0.8943 - val_loss: 0.3468 - val_accuracy: 0.8798\n",
            "Epoch 7/30\n",
            "1719/1719 [==============================] - 6s 4ms/step - loss: 0.2885 - accuracy: 0.8972 - val_loss: 0.3400 - val_accuracy: 0.8816\n",
            "Epoch 8/30\n",
            "1719/1719 [==============================] - 7s 4ms/step - loss: 0.2795 - accuracy: 0.9007 - val_loss: 0.3451 - val_accuracy: 0.8770\n",
            "Epoch 9/30\n",
            "1719/1719 [==============================] - 6s 4ms/step - loss: 0.2715 - accuracy: 0.9030 - val_loss: 0.3339 - val_accuracy: 0.8834\n",
            "Epoch 10/30\n",
            "1719/1719 [==============================] - 6s 4ms/step - loss: 0.2642 - accuracy: 0.9058 - val_loss: 0.3306 - val_accuracy: 0.8824\n",
            "Epoch 11/30\n",
            "1719/1719 [==============================] - 6s 4ms/step - loss: 0.2585 - accuracy: 0.9087 - val_loss: 0.3312 - val_accuracy: 0.8862\n",
            "Epoch 12/30\n",
            "1719/1719 [==============================] - 6s 4ms/step - loss: 0.2526 - accuracy: 0.9106 - val_loss: 0.3391 - val_accuracy: 0.8788\n",
            "Epoch 13/30\n",
            "1719/1719 [==============================] - 6s 4ms/step - loss: 0.2474 - accuracy: 0.9125 - val_loss: 0.3283 - val_accuracy: 0.8842\n",
            "Epoch 14/30\n",
            "1719/1719 [==============================] - 6s 4ms/step - loss: 0.2434 - accuracy: 0.9134 - val_loss: 0.3306 - val_accuracy: 0.8860\n",
            "Epoch 15/30\n",
            "1719/1719 [==============================] - 6s 4ms/step - loss: 0.2383 - accuracy: 0.9156 - val_loss: 0.3278 - val_accuracy: 0.8832\n",
            "Epoch 16/30\n",
            "1719/1719 [==============================] - 6s 4ms/step - loss: 0.2345 - accuracy: 0.9168 - val_loss: 0.3255 - val_accuracy: 0.8874\n",
            "Epoch 17/30\n",
            "1719/1719 [==============================] - 6s 4ms/step - loss: 0.2308 - accuracy: 0.9183 - val_loss: 0.3275 - val_accuracy: 0.8876\n",
            "Epoch 18/30\n",
            "1719/1719 [==============================] - 6s 4ms/step - loss: 0.2269 - accuracy: 0.9204 - val_loss: 0.3234 - val_accuracy: 0.8886\n",
            "Epoch 19/30\n",
            "1719/1719 [==============================] - 6s 4ms/step - loss: 0.2237 - accuracy: 0.9209 - val_loss: 0.3267 - val_accuracy: 0.8860\n",
            "Epoch 20/30\n",
            "1719/1719 [==============================] - 6s 4ms/step - loss: 0.2206 - accuracy: 0.9224 - val_loss: 0.3242 - val_accuracy: 0.8866\n",
            "Epoch 21/30\n",
            "1719/1719 [==============================] - 6s 4ms/step - loss: 0.2171 - accuracy: 0.9236 - val_loss: 0.3234 - val_accuracy: 0.8888\n",
            "Epoch 22/30\n",
            "1719/1719 [==============================] - 7s 4ms/step - loss: 0.2146 - accuracy: 0.9247 - val_loss: 0.3230 - val_accuracy: 0.8882\n",
            "Epoch 23/30\n",
            "1719/1719 [==============================] - 7s 4ms/step - loss: 0.2118 - accuracy: 0.9260 - val_loss: 0.3246 - val_accuracy: 0.8868\n",
            "Epoch 24/30\n",
            "1719/1719 [==============================] - 6s 4ms/step - loss: 0.2090 - accuracy: 0.9270 - val_loss: 0.3235 - val_accuracy: 0.8902\n",
            "Epoch 25/30\n",
            "1719/1719 [==============================] - 7s 4ms/step - loss: 0.2069 - accuracy: 0.9272 - val_loss: 0.3255 - val_accuracy: 0.8860\n",
            "Epoch 26/30\n",
            "1719/1719 [==============================] - 6s 4ms/step - loss: 0.2043 - accuracy: 0.9293 - val_loss: 0.3217 - val_accuracy: 0.8892\n",
            "Epoch 27/30\n",
            "1719/1719 [==============================] - 6s 4ms/step - loss: 0.2022 - accuracy: 0.9298 - val_loss: 0.3211 - val_accuracy: 0.8896\n",
            "Epoch 28/30\n",
            "1719/1719 [==============================] - 7s 4ms/step - loss: 0.2002 - accuracy: 0.9310 - val_loss: 0.3251 - val_accuracy: 0.8884\n",
            "Epoch 29/30\n",
            "1719/1719 [==============================] - 7s 4ms/step - loss: 0.1981 - accuracy: 0.9309 - val_loss: 0.3250 - val_accuracy: 0.8870\n",
            "Epoch 30/30\n",
            "1719/1719 [==============================] - 7s 4ms/step - loss: 0.1958 - accuracy: 0.9314 - val_loss: 0.3247 - val_accuracy: 0.8906\n"
          ]
        }
      ]
    },
    {
      "cell_type": "code",
      "source": [
        "import math\n",
        "\n",
        "learning_rate = 0.01\n",
        "decay = 1e-4\n",
        "batch_size = 32\n",
        "n_steps_per_epoch = math.ceil(len(X_train) / batch_size)\n",
        "epochs = np.arange(n_epochs)\n",
        "lrs = learning_rate / (1 + decay * epochs * n_steps_per_epoch)\n",
        "\n",
        "plt.plot(epochs, lrs,  \"o-\")\n",
        "plt.axis([0, n_epochs - 1, 0, 0.01])\n",
        "plt.xlabel(\"Epoch\")\n",
        "plt.ylabel(\"Learning Rate\")\n",
        "plt.title(\"Power Scheduling\", fontsize=14)\n",
        "plt.grid(True)\n",
        "plt.show()"
      ],
      "metadata": {
        "colab": {
          "base_uri": "https://localhost:8080/",
          "height": 303
        },
        "id": "WsJMCDJdqk80",
        "outputId": "1a965def-f8e4-49ff-a57a-3e4cc66701a9"
      },
      "execution_count": 33,
      "outputs": [
        {
          "output_type": "display_data",
          "data": {
            "text/plain": [
              "<Figure size 432x288 with 1 Axes>"
            ],
            "image/png": "[encoded data removed]"
          },
          "metadata": {
            "needs_background": "light"
          }
        }
      ]
    },
    {
      "cell_type": "markdown",
      "source": [
        "Piecewise constant scheduling\n",
        "\n",
        "The function returns a 1-arg callable to compute the piecewise constant when passed the current optimizer step. This can be useful for changing the learning rate value across different invocations of optimizer functions."
      ],
      "metadata": {
        "id": "yHlyrVt6qsSc"
      }
    },
    {
      "cell_type": "code",
      "source": [
        "def piecewise_constant_fn(epoch):\n",
        "    if epoch < 5:\n",
        "        return 0.01\n",
        "    elif epoch < 15:\n",
        "        return 0.005\n",
        "    else:\n",
        "        return 0.001"
      ],
      "metadata": {
        "id": "s0huBgDaqoWi"
      },
      "execution_count": 34,
      "outputs": []
    },
    {
      "cell_type": "code",
      "source": [
        "def piecewise_constant(boundaries, values):\n",
        "    boundaries = np.array([0] + boundaries)\n",
        "    values = np.array(values)\n",
        "    def piecewise_constant_fn(epoch):\n",
        "        return values[np.argmax(boundaries > epoch) - 1]\n",
        "    return piecewise_constant_fn\n",
        "\n",
        "piecewise_constant_fn = piecewise_constant([5, 15], [0.01, 0.005, 0.001])"
      ],
      "metadata": {
        "id": "jfn7YhiBrJ6d"
      },
      "execution_count": 35,
      "outputs": []
    },
    {
      "cell_type": "code",
      "source": [
        "lr_scheduler = keras.callbacks.LearningRateScheduler(piecewise_constant_fn)\n",
        "##Train the model at 30 Epochs and see the result\n",
        "model = keras.models.Sequential([\n",
        "    keras.layers.Flatten(input_shape=[28, 28]),\n",
        "    keras.layers.Dense(300, activation=\"selu\", kernel_initializer=\"lecun_normal\"),\n",
        "    keras.layers.Dense(100, activation=\"selu\", kernel_initializer=\"lecun_normal\"),\n",
        "    keras.layers.Dense(10, activation=\"softmax\")\n",
        "])\n",
        "model.compile(loss=\"sparse_categorical_crossentropy\", optimizer=\"nadam\", metrics=[\"accuracy\"])\n",
        "n_epochs = 30\n",
        "history = model.fit(X_train_scaled, y_train, epochs=n_epochs,\n",
        "                    validation_data=(X_valid_scaled, y_valid),\n",
        "                    callbacks=[lr_scheduler])"
      ],
      "metadata": {
        "colab": {
          "base_uri": "https://localhost:8080/"
        },
        "id": "XBPLKQNorLgi",
        "outputId": "c2e3b1f7-02bb-45a7-a84d-e5df8e632d25"
      },
      "execution_count": 36,
      "outputs": [
        {
          "output_type": "stream",
          "name": "stdout",
          "text": [
            "Epoch 1/30\n",
            "1719/1719 [==============================] - 13s 7ms/step - loss: 0.8729 - accuracy: 0.7496 - val_loss: 0.9312 - val_accuracy: 0.7320 - lr: 0.0100\n",
            "Epoch 2/30\n",
            "1719/1719 [==============================] - 12s 7ms/step - loss: 0.8370 - accuracy: 0.7500 - val_loss: 0.9902 - val_accuracy: 0.6972 - lr: 0.0100\n",
            "Epoch 3/30\n",
            "1719/1719 [==============================] - 12s 7ms/step - loss: 1.0856 - accuracy: 0.6746 - val_loss: 1.3574 - val_accuracy: 0.6224 - lr: 0.0100\n",
            "Epoch 4/30\n",
            "1719/1719 [==============================] - 12s 7ms/step - loss: 0.9621 - accuracy: 0.6750 - val_loss: 1.0658 - val_accuracy: 0.6384 - lr: 0.0100\n",
            "Epoch 5/30\n",
            "1719/1719 [==============================] - 12s 7ms/step - loss: 0.8885 - accuracy: 0.6945 - val_loss: 0.8539 - val_accuracy: 0.7140 - lr: 0.0100\n",
            "Epoch 6/30\n",
            "1719/1719 [==============================] - 12s 7ms/step - loss: 0.6867 - accuracy: 0.7283 - val_loss: 0.8049 - val_accuracy: 0.7462 - lr: 0.0050\n",
            "Epoch 7/30\n",
            "1719/1719 [==============================] - 12s 7ms/step - loss: 0.6504 - accuracy: 0.7427 - val_loss: 0.7273 - val_accuracy: 0.7560 - lr: 0.0050\n",
            "Epoch 8/30\n",
            "1719/1719 [==============================] - 12s 7ms/step - loss: 0.6289 - accuracy: 0.7501 - val_loss: 0.8780 - val_accuracy: 0.7158 - lr: 0.0050\n",
            "Epoch 9/30\n",
            "1719/1719 [==============================] - 12s 7ms/step - loss: 0.6143 - accuracy: 0.7513 - val_loss: 0.8478 - val_accuracy: 0.7148 - lr: 0.0050\n",
            "Epoch 10/30\n",
            "1719/1719 [==============================] - 12s 7ms/step - loss: 0.6259 - accuracy: 0.7525 - val_loss: 0.7490 - val_accuracy: 0.7666 - lr: 0.0050\n",
            "Epoch 11/30\n",
            "1719/1719 [==============================] - 12s 7ms/step - loss: 0.6059 - accuracy: 0.7590 - val_loss: 0.6700 - val_accuracy: 0.7620 - lr: 0.0050\n",
            "Epoch 12/30\n",
            "1719/1719 [==============================] - 12s 7ms/step - loss: 0.5860 - accuracy: 0.7623 - val_loss: 0.7428 - val_accuracy: 0.7316 - lr: 0.0050\n",
            "Epoch 13/30\n",
            "1719/1719 [==============================] - 12s 7ms/step - loss: 0.5896 - accuracy: 0.7627 - val_loss: 0.7322 - val_accuracy: 0.7522 - lr: 0.0050\n",
            "Epoch 14/30\n",
            "1719/1719 [==============================] - 12s 7ms/step - loss: 0.5721 - accuracy: 0.7633 - val_loss: 0.7268 - val_accuracy: 0.7636 - lr: 0.0050\n",
            "Epoch 15/30\n",
            "1719/1719 [==============================] - 12s 7ms/step - loss: 0.5778 - accuracy: 0.7701 - val_loss: 0.7948 - val_accuracy: 0.7542 - lr: 0.0050\n",
            "Epoch 16/30\n",
            "1719/1719 [==============================] - 12s 7ms/step - loss: 0.4682 - accuracy: 0.7926 - val_loss: 0.6566 - val_accuracy: 0.7914 - lr: 0.0010\n",
            "Epoch 17/30\n",
            "1719/1719 [==============================] - 12s 7ms/step - loss: 0.4437 - accuracy: 0.8005 - val_loss: 0.6868 - val_accuracy: 0.7666 - lr: 0.0010\n",
            "Epoch 18/30\n",
            "1719/1719 [==============================] - 11s 7ms/step - loss: 0.4337 - accuracy: 0.8029 - val_loss: 0.7223 - val_accuracy: 0.7924 - lr: 0.0010\n",
            "Epoch 19/30\n",
            "1719/1719 [==============================] - 11s 7ms/step - loss: 0.4231 - accuracy: 0.8066 - val_loss: 0.6636 - val_accuracy: 0.7916 - lr: 0.0010\n",
            "Epoch 20/30\n",
            "1719/1719 [==============================] - 12s 7ms/step - loss: 0.4180 - accuracy: 0.8097 - val_loss: 0.6603 - val_accuracy: 0.7710 - lr: 0.0010\n",
            "Epoch 21/30\n",
            "1719/1719 [==============================] - 12s 7ms/step - loss: 0.4134 - accuracy: 0.8120 - val_loss: 0.6730 - val_accuracy: 0.7732 - lr: 0.0010\n",
            "Epoch 22/30\n",
            "1719/1719 [==============================] - 12s 7ms/step - loss: 0.4079 - accuracy: 0.8146 - val_loss: 0.6805 - val_accuracy: 0.7996 - lr: 0.0010\n",
            "Epoch 23/30\n",
            "1719/1719 [==============================] - 12s 7ms/step - loss: 0.4017 - accuracy: 0.8156 - val_loss: 0.6894 - val_accuracy: 0.7976 - lr: 0.0010\n",
            "Epoch 24/30\n",
            "1719/1719 [==============================] - 12s 7ms/step - loss: 0.3982 - accuracy: 0.8201 - val_loss: 0.6641 - val_accuracy: 0.7978 - lr: 0.0010\n",
            "Epoch 25/30\n",
            "1719/1719 [==============================] - 12s 7ms/step - loss: 0.3906 - accuracy: 0.8215 - val_loss: 0.6715 - val_accuracy: 0.7738 - lr: 0.0010\n",
            "Epoch 26/30\n",
            "1719/1719 [==============================] - 12s 7ms/step - loss: 0.3886 - accuracy: 0.8234 - val_loss: 0.6834 - val_accuracy: 0.8038 - lr: 0.0010\n",
            "Epoch 27/30\n",
            "1719/1719 [==============================] - 12s 7ms/step - loss: 0.3827 - accuracy: 0.8300 - val_loss: 0.7120 - val_accuracy: 0.7974 - lr: 0.0010\n",
            "Epoch 28/30\n",
            "1719/1719 [==============================] - 12s 7ms/step - loss: 0.3757 - accuracy: 0.8292 - val_loss: 0.7036 - val_accuracy: 0.8028 - lr: 0.0010\n",
            "Epoch 29/30\n",
            "1719/1719 [==============================] - 12s 7ms/step - loss: 0.3747 - accuracy: 0.8306 - val_loss: 0.7070 - val_accuracy: 0.7986 - lr: 0.0010\n",
            "Epoch 30/30\n",
            "1719/1719 [==============================] - 12s 7ms/step - loss: 0.3690 - accuracy: 0.8342 - val_loss: 0.7406 - val_accuracy: 0.8002 - lr: 0.0010\n"
          ]
        }
      ]
    },
    {
      "cell_type": "code",
      "source": [
        "plt.plot(history.epoch, [piecewise_constant_fn(epoch) for epoch in history.epoch], \"o-\")\n",
        "plt.axis([0, n_epochs - 1, 0, 0.011])\n",
        "plt.xlabel(\"Epoch\")\n",
        "plt.ylabel(\"Learning Rate\")\n",
        "plt.title(\"Piecewise Constant Scheduling\", fontsize=14)\n",
        "plt.grid(True)\n",
        "plt.show()"
      ],
      "metadata": {
        "colab": {
          "base_uri": "https://localhost:8080/",
          "height": 303
        },
        "id": "LW7UEYiorTMP",
        "outputId": "d1daa0bd-7f78-4262-db27-6eb5a9f05bd8"
      },
      "execution_count": 37,
      "outputs": [
        {
          "output_type": "display_data",
          "data": {
            "text/plain": [
              "<Figure size 432x288 with 1 Axes>"
            ],
            "image/png": "[encoded data removed]"
          },
          "metadata": {
            "needs_background": "light"
          }
        }
      ]
    },
    {
      "cell_type": "markdown",
      "source": [
        "Performance Scheduling"
      ],
      "metadata": {
        "id": "O75q_GlyrYEP"
      }
    },
    {
      "cell_type": "code",
      "source": [
        "tf.random.set_seed(42)\n",
        "np.random.seed(42)"
      ],
      "metadata": {
        "id": "DHZ_eBcbrVy6"
      },
      "execution_count": 38,
      "outputs": []
    },
    {
      "cell_type": "code",
      "source": [
        "lr_scheduler = keras.callbacks.ReduceLROnPlateau(factor=0.5, patience=5)\n",
        "\n",
        "model = keras.models.Sequential([\n",
        "    keras.layers.Flatten(input_shape=[28, 28]),\n",
        "    keras.layers.Dense(300, activation=\"selu\", kernel_initializer=\"lecun_normal\"),\n",
        "    keras.layers.Dense(100, activation=\"selu\", kernel_initializer=\"lecun_normal\"),\n",
        "    keras.layers.Dense(10, activation=\"softmax\")\n",
        "])\n",
        "optimizer = keras.optimizers.SGD(learning_rate=0.02, momentum=0.9)\n",
        "model.compile(loss=\"sparse_categorical_crossentropy\", optimizer=optimizer, metrics=[\"accuracy\"])\n",
        "n_epochs = 30\n",
        "history = model.fit(X_train_scaled, y_train, epochs=n_epochs,\n",
        "                    validation_data=(X_valid_scaled, y_valid),\n",
        "                    callbacks=[lr_scheduler])"
      ],
      "metadata": {
        "colab": {
          "base_uri": "https://localhost:8080/"
        },
        "id": "iSzwFcfxrao6",
        "outputId": "782723b0-e9b9-47f2-e48e-45c68c70c8d5"
      },
      "execution_count": 39,
      "outputs": [
        {
          "output_type": "stream",
          "name": "stdout",
          "text": [
            "Epoch 1/30\n",
            "1719/1719 [==============================] - 7s 4ms/step - loss: 0.5908 - accuracy: 0.8070 - val_loss: 0.4863 - val_accuracy: 0.8474 - lr: 0.0200\n",
            "Epoch 2/30\n",
            "1719/1719 [==============================] - 7s 4ms/step - loss: 0.4939 - accuracy: 0.8393 - val_loss: 0.6034 - val_accuracy: 0.8374 - lr: 0.0200\n",
            "Epoch 3/30\n",
            "1719/1719 [==============================] - 7s 4ms/step - loss: 0.5016 - accuracy: 0.8439 - val_loss: 0.4986 - val_accuracy: 0.8544 - lr: 0.0200\n",
            "Epoch 4/30\n",
            "1719/1719 [==============================] - 7s 4ms/step - loss: 0.5030 - accuracy: 0.8486 - val_loss: 0.5206 - val_accuracy: 0.8588 - lr: 0.0200\n",
            "Epoch 5/30\n",
            "1719/1719 [==============================] - 7s 4ms/step - loss: 0.5136 - accuracy: 0.8504 - val_loss: 0.4708 - val_accuracy: 0.8560 - lr: 0.0200\n",
            "Epoch 6/30\n",
            "1719/1719 [==============================] - 7s 4ms/step - loss: 0.5028 - accuracy: 0.8559 - val_loss: 0.5840 - val_accuracy: 0.8518 - lr: 0.0200\n",
            "Epoch 7/30\n",
            "1719/1719 [==============================] - 7s 4ms/step - loss: 0.5166 - accuracy: 0.8557 - val_loss: 0.5435 - val_accuracy: 0.8446 - lr: 0.0200\n",
            "Epoch 8/30\n",
            "1719/1719 [==============================] - 7s 4ms/step - loss: 0.5143 - accuracy: 0.8575 - val_loss: 0.7547 - val_accuracy: 0.8116 - lr: 0.0200\n",
            "Epoch 9/30\n",
            "1719/1719 [==============================] - 7s 4ms/step - loss: 0.5324 - accuracy: 0.8549 - val_loss: 0.7432 - val_accuracy: 0.8218 - lr: 0.0200\n",
            "Epoch 10/30\n",
            "1719/1719 [==============================] - 7s 4ms/step - loss: 0.5493 - accuracy: 0.8551 - val_loss: 0.8416 - val_accuracy: 0.8510 - lr: 0.0200\n",
            "Epoch 11/30\n",
            "1719/1719 [==============================] - 7s 4ms/step - loss: 0.3009 - accuracy: 0.8971 - val_loss: 0.4460 - val_accuracy: 0.8766 - lr: 0.0100\n",
            "Epoch 12/30\n",
            "1719/1719 [==============================] - 7s 4ms/step - loss: 0.2560 - accuracy: 0.9092 - val_loss: 0.5003 - val_accuracy: 0.8666 - lr: 0.0100\n",
            "Epoch 13/30\n",
            "1719/1719 [==============================] - 7s 4ms/step - loss: 0.2250 - accuracy: 0.9177 - val_loss: 0.4521 - val_accuracy: 0.8800 - lr: 0.0100\n",
            "Epoch 14/30\n",
            "1719/1719 [==============================] - 7s 4ms/step - loss: 0.2115 - accuracy: 0.9233 - val_loss: 0.4812 - val_accuracy: 0.8778 - lr: 0.0100\n",
            "Epoch 15/30\n",
            "1719/1719 [==============================] - 7s 4ms/step - loss: 0.2035 - accuracy: 0.9259 - val_loss: 0.4526 - val_accuracy: 0.8878 - lr: 0.0100\n",
            "Epoch 16/30\n",
            "1719/1719 [==============================] - 7s 4ms/step - loss: 0.1886 - accuracy: 0.9299 - val_loss: 0.5097 - val_accuracy: 0.8884 - lr: 0.0100\n",
            "Epoch 17/30\n",
            "1719/1719 [==============================] - 7s 4ms/step - loss: 0.1323 - accuracy: 0.9486 - val_loss: 0.4773 - val_accuracy: 0.8888 - lr: 0.0050\n",
            "Epoch 18/30\n",
            "1719/1719 [==============================] - 7s 4ms/step - loss: 0.1184 - accuracy: 0.9533 - val_loss: 0.4903 - val_accuracy: 0.8900 - lr: 0.0050\n",
            "Epoch 19/30\n",
            "1719/1719 [==============================] - 7s 4ms/step - loss: 0.1095 - accuracy: 0.9576 - val_loss: 0.5034 - val_accuracy: 0.8918 - lr: 0.0050\n",
            "Epoch 20/30\n",
            "1719/1719 [==============================] - 7s 4ms/step - loss: 0.1031 - accuracy: 0.9598 - val_loss: 0.5103 - val_accuracy: 0.8952 - lr: 0.0050\n",
            "Epoch 21/30\n",
            "1719/1719 [==============================] - 7s 4ms/step - loss: 0.0967 - accuracy: 0.9613 - val_loss: 0.5480 - val_accuracy: 0.8934 - lr: 0.0050\n",
            "Epoch 22/30\n",
            "1719/1719 [==============================] - 7s 4ms/step - loss: 0.0784 - accuracy: 0.9694 - val_loss: 0.5436 - val_accuracy: 0.8960 - lr: 0.0025\n",
            "Epoch 23/30\n",
            "1719/1719 [==============================] - 7s 4ms/step - loss: 0.0728 - accuracy: 0.9719 - val_loss: 0.5420 - val_accuracy: 0.8936 - lr: 0.0025\n",
            "Epoch 24/30\n",
            "1719/1719 [==============================] - 7s 4ms/step - loss: 0.0687 - accuracy: 0.9740 - val_loss: 0.5517 - val_accuracy: 0.8948 - lr: 0.0025\n",
            "Epoch 25/30\n",
            "1719/1719 [==============================] - 7s 4ms/step - loss: 0.0661 - accuracy: 0.9751 - val_loss: 0.5570 - val_accuracy: 0.8948 - lr: 0.0025\n",
            "Epoch 26/30\n",
            "1719/1719 [==============================] - 7s 4ms/step - loss: 0.0628 - accuracy: 0.9766 - val_loss: 0.5687 - val_accuracy: 0.8934 - lr: 0.0025\n",
            "Epoch 27/30\n",
            "1719/1719 [==============================] - 7s 4ms/step - loss: 0.0553 - accuracy: 0.9794 - val_loss: 0.5773 - val_accuracy: 0.8924 - lr: 0.0012\n",
            "Epoch 28/30\n",
            "1719/1719 [==============================] - 7s 4ms/step - loss: 0.0534 - accuracy: 0.9805 - val_loss: 0.5873 - val_accuracy: 0.8950 - lr: 0.0012\n",
            "Epoch 29/30\n",
            "1719/1719 [==============================] - 7s 4ms/step - loss: 0.0517 - accuracy: 0.9814 - val_loss: 0.5941 - val_accuracy: 0.8934 - lr: 0.0012\n",
            "Epoch 30/30\n",
            "1719/1719 [==============================] - 7s 4ms/step - loss: 0.0506 - accuracy: 0.9822 - val_loss: 0.5991 - val_accuracy: 0.8940 - lr: 0.0012\n"
          ]
        }
      ]
    },
    {
      "cell_type": "code",
      "source": [
        "plt.plot(history.epoch, history.history[\"lr\"], \"bo-\")\n",
        "plt.xlabel(\"Epoch\")\n",
        "plt.ylabel(\"Learning Rate\", color='b')\n",
        "plt.tick_params('y', colors='b')\n",
        "plt.gca().set_xlim(0, n_epochs - 1)\n",
        "plt.grid(True)\n",
        "\n",
        "ax2 = plt.gca().twinx()\n",
        "ax2.plot(history.epoch, history.history[\"val_loss\"], \"r^-\")\n",
        "ax2.set_ylabel('Validation Loss', color='r')\n",
        "ax2.tick_params('y', colors='r')\n",
        "\n",
        "plt.title(\"Reduce LR on Plateau\", fontsize=14)\n",
        "plt.show()"
      ],
      "metadata": {
        "colab": {
          "base_uri": "https://localhost:8080/",
          "height": 303
        },
        "id": "zDooZkEcrdAm",
        "outputId": "31f10336-9975-4e87-b1a0-f37d467b764d"
      },
      "execution_count": 40,
      "outputs": [
        {
          "output_type": "display_data",
          "data": {
            "text/plain": [
              "<Figure size 432x288 with 2 Axes>"
            ],
            "image/png": "[encoded data removed]"
          },
          "metadata": {
            "needs_background": "light"
          }
        }
      ]
    },
    {
      "cell_type": "markdown",
      "source": [
        "Regularization"
      ],
      "metadata": {
        "id": "rOtzaNPpriPv"
      }
    },
    {
      "cell_type": "code",
      "source": [
        "layer = keras.layers.Dense(100, activation=\"elu\",\n",
        "                           kernel_initializer=\"he_normal\",\n",
        "                           kernel_regularizer=keras.regularizers.l2(0.01))"
      ],
      "metadata": {
        "id": "kCLYEUXTrgKx"
      },
      "execution_count": 41,
      "outputs": []
    },
    {
      "cell_type": "code",
      "source": [
        "model = keras.models.Sequential([\n",
        "    keras.layers.Flatten(input_shape=[28, 28]),\n",
        "    keras.layers.Dense(300, activation=\"elu\",\n",
        "                       kernel_initializer=\"he_normal\",\n",
        "                       kernel_regularizer=keras.regularizers.l2(0.01)),\n",
        "    keras.layers.Dense(100, activation=\"elu\",\n",
        "                       kernel_initializer=\"he_normal\",\n",
        "                       kernel_regularizer=keras.regularizers.l2(0.01)),\n",
        "    keras.layers.Dense(10, activation=\"softmax\",\n",
        "                       kernel_regularizer=keras.regularizers.l2(0.01))\n",
        "])\n",
        "model.compile(loss=\"sparse_categorical_crossentropy\", optimizer=\"nadam\", metrics=[\"accuracy\"])\n",
        "n_epochs = 10\n",
        "history = model.fit(X_train_scaled, y_train, epochs=n_epochs,\n",
        "                    validation_data=(X_valid_scaled, y_valid))"
      ],
      "metadata": {
        "colab": {
          "base_uri": "https://localhost:8080/"
        },
        "id": "7YL4Ekgwrlho",
        "outputId": "cb4cb6cf-10f3-4479-b921-ffb427de9b82"
      },
      "execution_count": 42,
      "outputs": [
        {
          "output_type": "stream",
          "name": "stdout",
          "text": [
            "Epoch 1/10\n",
            "1719/1719 [==============================] - 15s 8ms/step - loss: 1.5956 - accuracy: 0.8124 - val_loss: 0.7169 - val_accuracy: 0.8340\n",
            "Epoch 2/10\n",
            "1719/1719 [==============================] - 13s 8ms/step - loss: 0.7197 - accuracy: 0.8274 - val_loss: 0.6850 - val_accuracy: 0.8376\n",
            "Epoch 3/10\n",
            "1719/1719 [==============================] - 14s 8ms/step - loss: 0.7017 - accuracy: 0.8328 - val_loss: 0.6989 - val_accuracy: 0.8342\n",
            "Epoch 4/10\n",
            "1719/1719 [==============================] - 13s 8ms/step - loss: 0.6950 - accuracy: 0.8363 - val_loss: 0.6727 - val_accuracy: 0.8466\n",
            "Epoch 5/10\n",
            "1719/1719 [==============================] - 13s 8ms/step - loss: 0.6897 - accuracy: 0.8371 - val_loss: 0.6617 - val_accuracy: 0.8508\n",
            "Epoch 6/10\n",
            "1719/1719 [==============================] - 13s 7ms/step - loss: 0.6872 - accuracy: 0.8378 - val_loss: 0.6616 - val_accuracy: 0.8504\n",
            "Epoch 7/10\n",
            "1719/1719 [==============================] - 13s 8ms/step - loss: 0.6859 - accuracy: 0.8398 - val_loss: 0.6587 - val_accuracy: 0.8506\n",
            "Epoch 8/10\n",
            "1719/1719 [==============================] - 13s 8ms/step - loss: 0.6831 - accuracy: 0.8411 - val_loss: 0.7473 - val_accuracy: 0.8216\n",
            "Epoch 9/10\n",
            "1719/1719 [==============================] - 14s 8ms/step - loss: 0.6846 - accuracy: 0.8394 - val_loss: 0.6608 - val_accuracy: 0.8520\n",
            "Epoch 10/10\n",
            "1719/1719 [==============================] - 13s 8ms/step - loss: 0.6806 - accuracy: 0.8402 - val_loss: 0.6600 - val_accuracy: 0.8476\n"
          ]
        }
      ]
    },
    {
      "cell_type": "markdown",
      "source": [
        "Dropout"
      ],
      "metadata": {
        "id": "GihuIlPfrr0s"
      }
    },
    {
      "cell_type": "code",
      "source": [
        "model = keras.models.Sequential([\n",
        "    keras.layers.Flatten(input_shape=[28, 28]),\n",
        "    keras.layers.Dropout(rate=0.2),\n",
        "    keras.layers.Dense(300, activation=\"elu\", kernel_initializer=\"he_normal\"),\n",
        "    keras.layers.Dropout(rate=0.2),\n",
        "    keras.layers.Dense(100, activation=\"elu\", kernel_initializer=\"he_normal\"),\n",
        "    keras.layers.Dropout(rate=0.2),\n",
        "    keras.layers.Dense(10, activation=\"softmax\")\n",
        "])  \n",
        "model.compile(loss=\"sparse_categorical_crossentropy\", optimizer=\"nadam\", metrics=[\"accuracy\"])\n",
        "n_epochs = 20\n",
        "history = model.fit(X_train_scaled, y_train, epochs=n_epochs,\n",
        "                    validation_data=(X_valid_scaled, y_valid))"
      ],
      "metadata": {
        "colab": {
          "base_uri": "https://localhost:8080/"
        },
        "id": "JWMARdjorpcA",
        "outputId": "a42b13eb-380f-4712-9705-2cb976a4fef8"
      },
      "execution_count": 43,
      "outputs": [
        {
          "output_type": "stream",
          "name": "stdout",
          "text": [
            "Epoch 1/20\n",
            "1719/1719 [==============================] - 14s 7ms/step - loss: 0.5597 - accuracy: 0.8059 - val_loss: 0.3672 - val_accuracy: 0.8656\n",
            "Epoch 2/20\n",
            "1719/1719 [==============================] - 13s 7ms/step - loss: 0.4230 - accuracy: 0.8453 - val_loss: 0.3468 - val_accuracy: 0.8678\n",
            "Epoch 3/20\n",
            "1719/1719 [==============================] - 13s 7ms/step - loss: 0.3875 - accuracy: 0.8569 - val_loss: 0.3379 - val_accuracy: 0.8748\n",
            "Epoch 4/20\n",
            "1719/1719 [==============================] - 13s 7ms/step - loss: 0.3720 - accuracy: 0.8619 - val_loss: 0.3175 - val_accuracy: 0.8786\n",
            "Epoch 5/20\n",
            "1719/1719 [==============================] - 13s 7ms/step - loss: 0.3569 - accuracy: 0.8674 - val_loss: 0.3252 - val_accuracy: 0.8832\n",
            "Epoch 6/20\n",
            "1719/1719 [==============================] - 13s 7ms/step - loss: 0.3490 - accuracy: 0.8719 - val_loss: 0.3084 - val_accuracy: 0.8852\n",
            "Epoch 7/20\n",
            "1719/1719 [==============================] - 13s 8ms/step - loss: 0.3370 - accuracy: 0.8756 - val_loss: 0.3271 - val_accuracy: 0.8862\n",
            "Epoch 8/20\n",
            "1719/1719 [==============================] - 13s 7ms/step - loss: 0.3347 - accuracy: 0.8756 - val_loss: 0.3046 - val_accuracy: 0.8896\n",
            "Epoch 9/20\n",
            "1719/1719 [==============================] - 13s 7ms/step - loss: 0.3240 - accuracy: 0.8799 - val_loss: 0.2965 - val_accuracy: 0.8904\n",
            "Epoch 10/20\n",
            "1719/1719 [==============================] - 13s 8ms/step - loss: 0.3208 - accuracy: 0.8807 - val_loss: 0.2949 - val_accuracy: 0.8910\n",
            "Epoch 11/20\n",
            "1719/1719 [==============================] - 13s 8ms/step - loss: 0.3153 - accuracy: 0.8834 - val_loss: 0.2940 - val_accuracy: 0.8890\n",
            "Epoch 12/20\n",
            "1719/1719 [==============================] - 13s 8ms/step - loss: 0.3053 - accuracy: 0.8855 - val_loss: 0.3144 - val_accuracy: 0.8830\n",
            "Epoch 13/20\n",
            "1719/1719 [==============================] - 13s 7ms/step - loss: 0.3057 - accuracy: 0.8852 - val_loss: 0.2987 - val_accuracy: 0.8952\n",
            "Epoch 14/20\n",
            "1719/1719 [==============================] - 13s 7ms/step - loss: 0.3015 - accuracy: 0.8878 - val_loss: 0.2994 - val_accuracy: 0.8932\n",
            "Epoch 15/20\n",
            "1719/1719 [==============================] - 12s 7ms/step - loss: 0.2935 - accuracy: 0.8894 - val_loss: 0.3016 - val_accuracy: 0.8900\n",
            "Epoch 16/20\n",
            "1719/1719 [==============================] - 13s 7ms/step - loss: 0.2934 - accuracy: 0.8902 - val_loss: 0.3073 - val_accuracy: 0.8886\n",
            "Epoch 17/20\n",
            "1719/1719 [==============================] - 13s 8ms/step - loss: 0.2930 - accuracy: 0.8901 - val_loss: 0.3146 - val_accuracy: 0.8924\n",
            "Epoch 18/20\n",
            "1719/1719 [==============================] - 13s 7ms/step - loss: 0.2827 - accuracy: 0.8953 - val_loss: 0.3030 - val_accuracy: 0.8960\n",
            "Epoch 19/20\n",
            "1719/1719 [==============================] - 13s 8ms/step - loss: 0.2856 - accuracy: 0.8933 - val_loss: 0.3052 - val_accuracy: 0.8910\n",
            "Epoch 20/20\n",
            "1719/1719 [==============================] - 13s 7ms/step - loss: 0.2807 - accuracy: 0.8940 - val_loss: 0.2997 - val_accuracy: 0.8910\n"
          ]
        }
      ]
    },
    {
      "cell_type": "code",
      "source": [
        "model.evaluate(X_test_scaled, y_test)"
      ],
      "metadata": {
        "colab": {
          "base_uri": "https://localhost:8080/"
        },
        "id": "qYqL38dPrv8i",
        "outputId": "04aef9a4-a27b-46ac-c476-b8becb204f97"
      },
      "execution_count": 44,
      "outputs": [
        {
          "output_type": "stream",
          "name": "stdout",
          "text": [
            "313/313 [==============================] - 1s 2ms/step - loss: 0.3306 - accuracy: 0.8829\n"
          ]
        },
        {
          "output_type": "execute_result",
          "data": {
            "text/plain": [
              "[0.3305869996547699, 0.8828999996185303]"
            ]
          },
          "metadata": {},
          "execution_count": 44
        }
      ]
    },
    {
      "cell_type": "markdown",
      "source": [
        "Alpha Dropout"
      ],
      "metadata": {
        "id": "87PADeJjr0b7"
      }
    },
    {
      "cell_type": "code",
      "source": [
        "tf.random.set_seed(100)\n",
        "np.random.seed(100)"
      ],
      "metadata": {
        "id": "lk3p9Xf7ry6H"
      },
      "execution_count": 45,
      "outputs": []
    },
    {
      "cell_type": "code",
      "source": [
        "model = keras.models.Sequential([\n",
        "    keras.layers.Flatten(input_shape=[28, 28]),\n",
        "    keras.layers.AlphaDropout(rate=0.2),\n",
        "    keras.layers.Dense(300, activation=\"selu\", kernel_initializer=\"lecun_normal\"),\n",
        "    keras.layers.AlphaDropout(rate=0.2),\n",
        "    keras.layers.Dense(100, activation=\"selu\", kernel_initializer=\"lecun_normal\"),\n",
        "    keras.layers.AlphaDropout(rate=0.2),\n",
        "    keras.layers.Dense(10, activation=\"softmax\")\n",
        "])\n",
        "optimizer = keras.optimizers.SGD(learning_rate=0.01, momentum=0.9, nesterov=True)\n",
        "model.compile(loss=\"sparse_categorical_crossentropy\", optimizer=optimizer, metrics=[\"accuracy\"])\n",
        "n_epochs = 20\n",
        "history = model.fit(X_train_scaled, y_train, epochs=n_epochs,\n",
        "                    validation_data=(X_valid_scaled, y_valid))"
      ],
      "metadata": {
        "colab": {
          "base_uri": "https://localhost:8080/"
        },
        "id": "ceWjuRqur37H",
        "outputId": "f75d1b57-92ee-4849-a5d4-1aa60913de93"
      },
      "execution_count": 46,
      "outputs": [
        {
          "output_type": "stream",
          "name": "stdout",
          "text": [
            "Epoch 1/20\n",
            "1719/1719 [==============================] - 9s 5ms/step - loss: 0.6651 - accuracy: 0.7589 - val_loss: 0.5744 - val_accuracy: 0.8442\n",
            "Epoch 2/20\n",
            "1719/1719 [==============================] - 8s 5ms/step - loss: 0.5536 - accuracy: 0.7975 - val_loss: 0.5074 - val_accuracy: 0.8458\n",
            "Epoch 3/20\n",
            "1719/1719 [==============================] - 8s 5ms/step - loss: 0.5257 - accuracy: 0.8071 - val_loss: 0.5568 - val_accuracy: 0.8382\n",
            "Epoch 4/20\n",
            "1719/1719 [==============================] - 8s 5ms/step - loss: 0.5107 - accuracy: 0.8116 - val_loss: 0.5097 - val_accuracy: 0.8464\n",
            "Epoch 5/20\n",
            "1719/1719 [==============================] - 8s 5ms/step - loss: 0.4981 - accuracy: 0.8159 - val_loss: 0.4828 - val_accuracy: 0.8508\n",
            "Epoch 6/20\n",
            "1719/1719 [==============================] - 8s 5ms/step - loss: 0.4804 - accuracy: 0.8233 - val_loss: 0.4818 - val_accuracy: 0.8626\n",
            "Epoch 7/20\n",
            "1719/1719 [==============================] - 8s 5ms/step - loss: 0.4709 - accuracy: 0.8267 - val_loss: 0.4317 - val_accuracy: 0.8694\n",
            "Epoch 8/20\n",
            "1719/1719 [==============================] - 8s 5ms/step - loss: 0.4682 - accuracy: 0.8255 - val_loss: 0.4310 - val_accuracy: 0.8714\n",
            "Epoch 9/20\n",
            "1719/1719 [==============================] - 8s 5ms/step - loss: 0.4571 - accuracy: 0.8312 - val_loss: 0.4240 - val_accuracy: 0.8674\n",
            "Epoch 10/20\n",
            "1719/1719 [==============================] - 8s 5ms/step - loss: 0.4512 - accuracy: 0.8333 - val_loss: 0.4809 - val_accuracy: 0.8696\n",
            "Epoch 11/20\n",
            "1719/1719 [==============================] - 8s 5ms/step - loss: 0.4529 - accuracy: 0.8309 - val_loss: 0.4457 - val_accuracy: 0.8652\n",
            "Epoch 12/20\n",
            "1719/1719 [==============================] - 8s 5ms/step - loss: 0.4400 - accuracy: 0.8367 - val_loss: 0.4484 - val_accuracy: 0.8782\n",
            "Epoch 13/20\n",
            "1719/1719 [==============================] - 8s 5ms/step - loss: 0.4414 - accuracy: 0.8365 - val_loss: 0.4477 - val_accuracy: 0.8714\n",
            "Epoch 14/20\n",
            "1719/1719 [==============================] - 8s 5ms/step - loss: 0.4372 - accuracy: 0.8371 - val_loss: 0.4552 - val_accuracy: 0.8638\n",
            "Epoch 15/20\n",
            "1719/1719 [==============================] - 9s 5ms/step - loss: 0.4336 - accuracy: 0.8393 - val_loss: 0.4789 - val_accuracy: 0.8620\n",
            "Epoch 16/20\n",
            "1719/1719 [==============================] - 8s 5ms/step - loss: 0.4242 - accuracy: 0.8422 - val_loss: 0.4089 - val_accuracy: 0.8760\n",
            "Epoch 17/20\n",
            "1719/1719 [==============================] - 8s 5ms/step - loss: 0.4248 - accuracy: 0.8419 - val_loss: 0.4234 - val_accuracy: 0.8772\n",
            "Epoch 18/20\n",
            "1719/1719 [==============================] - 8s 5ms/step - loss: 0.4237 - accuracy: 0.8424 - val_loss: 0.4654 - val_accuracy: 0.8748\n",
            "Epoch 19/20\n",
            "1719/1719 [==============================] - 8s 5ms/step - loss: 0.4194 - accuracy: 0.8445 - val_loss: 0.4557 - val_accuracy: 0.8690\n",
            "Epoch 20/20\n",
            "1719/1719 [==============================] - 8s 5ms/step - loss: 0.4219 - accuracy: 0.8439 - val_loss: 0.4096 - val_accuracy: 0.8760\n"
          ]
        }
      ]
    },
    {
      "cell_type": "code",
      "source": [
        "model.evaluate(X_test_scaled, y_test)"
      ],
      "metadata": {
        "colab": {
          "base_uri": "https://localhost:8080/"
        },
        "id": "HXYQKjKDr6bl",
        "outputId": "0ced1eff-bf2e-4b00-ff76-b2a1b8c0d26e"
      },
      "execution_count": 47,
      "outputs": [
        {
          "output_type": "stream",
          "name": "stdout",
          "text": [
            "313/313 [==============================] - 1s 2ms/step - loss: 0.4543 - accuracy: 0.8697\n"
          ]
        },
        {
          "output_type": "execute_result",
          "data": {
            "text/plain": [
              "[0.45431357622146606, 0.869700014591217]"
            ]
          },
          "metadata": {},
          "execution_count": 47
        }
      ]
    },
    {
      "cell_type": "markdown",
      "source": [
        "Max Norm"
      ],
      "metadata": {
        "id": "W3iWw9EKr_Yw"
      }
    },
    {
      "cell_type": "code",
      "source": [
        "layer = keras.layers.Dense(100, activation=\"selu\", kernel_initializer=\"lecun_normal\",\n",
        "                           kernel_constraint=keras.constraints.max_norm(1.))"
      ],
      "metadata": {
        "id": "k4nnW-U2r9UM"
      },
      "execution_count": 48,
      "outputs": []
    },
    {
      "cell_type": "code",
      "source": [
        "from functools import partial\n",
        "# Defining, compile and train thje model at 20 Epochs\n",
        "\n",
        "MaxNormDense = partial(keras.layers.Dense,\n",
        "                       activation=\"selu\", kernel_initializer=\"lecun_normal\",\n",
        "                       kernel_constraint=keras.constraints.max_norm(1.))\n",
        "\n",
        "model = keras.models.Sequential([\n",
        "    keras.layers.Flatten(input_shape=[28, 28]),\n",
        "    MaxNormDense(300),\n",
        "    MaxNormDense(100),\n",
        "    keras.layers.Dense(10, activation=\"softmax\")\n",
        "])\n",
        "model.compile(loss=\"sparse_categorical_crossentropy\", optimizer=\"nadam\", metrics=[\"accuracy\"])\n",
        "n_epochs = 20\n",
        "history = model.fit(X_train_scaled, y_train, epochs=n_epochs,\n",
        "                    validation_data=(X_valid_scaled, y_valid))"
      ],
      "metadata": {
        "colab": {
          "base_uri": "https://localhost:8080/"
        },
        "id": "tbZuOZ0gsCYT",
        "outputId": "f31f1f8d-6047-46fb-89a1-322b33ae1e25"
      },
      "execution_count": 49,
      "outputs": [
        {
          "output_type": "stream",
          "name": "stdout",
          "text": [
            "Epoch 1/20\n",
            "1719/1719 [==============================] - 14s 7ms/step - loss: 0.4810 - accuracy: 0.8318 - val_loss: 0.3537 - val_accuracy: 0.8734\n",
            "Epoch 2/20\n",
            "1719/1719 [==============================] - 12s 7ms/step - loss: 0.3546 - accuracy: 0.8706 - val_loss: 0.3419 - val_accuracy: 0.8752\n",
            "Epoch 3/20\n",
            "1719/1719 [==============================] - 12s 7ms/step - loss: 0.3299 - accuracy: 0.8789 - val_loss: 0.3405 - val_accuracy: 0.8824\n",
            "Epoch 4/20\n",
            "1719/1719 [==============================] - 12s 7ms/step - loss: 0.3160 - accuracy: 0.8821 - val_loss: 0.3239 - val_accuracy: 0.8792\n",
            "Epoch 5/20\n",
            "1719/1719 [==============================] - 12s 7ms/step - loss: 0.3111 - accuracy: 0.8839 - val_loss: 0.3310 - val_accuracy: 0.8762\n",
            "Epoch 6/20\n",
            "1719/1719 [==============================] - 12s 7ms/step - loss: 0.3068 - accuracy: 0.8854 - val_loss: 0.3573 - val_accuracy: 0.8734\n",
            "Epoch 7/20\n",
            "1719/1719 [==============================] - 13s 7ms/step - loss: 0.3045 - accuracy: 0.8854 - val_loss: 0.3454 - val_accuracy: 0.8754\n",
            "Epoch 8/20\n",
            "1719/1719 [==============================] - 13s 8ms/step - loss: 0.3021 - accuracy: 0.8886 - val_loss: 0.3703 - val_accuracy: 0.8638\n",
            "Epoch 9/20\n",
            "1719/1719 [==============================] - 13s 8ms/step - loss: 0.3008 - accuracy: 0.8875 - val_loss: 0.3394 - val_accuracy: 0.8742\n",
            "Epoch 10/20\n",
            "1719/1719 [==============================] - 13s 8ms/step - loss: 0.2996 - accuracy: 0.8877 - val_loss: 0.3435 - val_accuracy: 0.8704\n",
            "Epoch 11/20\n",
            "1719/1719 [==============================] - 13s 8ms/step - loss: 0.2984 - accuracy: 0.8866 - val_loss: 0.3799 - val_accuracy: 0.8642\n",
            "Epoch 12/20\n",
            "1719/1719 [==============================] - 13s 8ms/step - loss: 0.2969 - accuracy: 0.8893 - val_loss: 0.3339 - val_accuracy: 0.8810\n",
            "Epoch 13/20\n",
            "1719/1719 [==============================] - 13s 8ms/step - loss: 0.2968 - accuracy: 0.8892 - val_loss: 0.3408 - val_accuracy: 0.8790\n",
            "Epoch 14/20\n",
            "1719/1719 [==============================] - 13s 8ms/step - loss: 0.2985 - accuracy: 0.8881 - val_loss: 0.3495 - val_accuracy: 0.8752\n",
            "Epoch 15/20\n",
            "1719/1719 [==============================] - 13s 8ms/step - loss: 0.2942 - accuracy: 0.8894 - val_loss: 0.3420 - val_accuracy: 0.8792\n",
            "Epoch 16/20\n",
            "1719/1719 [==============================] - 13s 8ms/step - loss: 0.2919 - accuracy: 0.8912 - val_loss: 0.3387 - val_accuracy: 0.8800\n",
            "Epoch 17/20\n",
            "1719/1719 [==============================] - 13s 8ms/step - loss: 0.2936 - accuracy: 0.8902 - val_loss: 0.3291 - val_accuracy: 0.8810\n",
            "Epoch 18/20\n",
            "1719/1719 [==============================] - 13s 8ms/step - loss: 0.2938 - accuracy: 0.8906 - val_loss: 0.3496 - val_accuracy: 0.8736\n",
            "Epoch 19/20\n",
            "1719/1719 [==============================] - 13s 8ms/step - loss: 0.2914 - accuracy: 0.8907 - val_loss: 0.3581 - val_accuracy: 0.8656\n",
            "Epoch 20/20\n",
            "1719/1719 [==============================] - 13s 8ms/step - loss: 0.2918 - accuracy: 0.8888 - val_loss: 0.3605 - val_accuracy: 0.8714\n"
          ]
        }
      ]
    },
    {
      "cell_type": "markdown",
      "source": [
        "##**References**\n",
        "https://github.com/ageron/handson-ml2/blob/master/11_training_deep_neural_networks.ipynb\n",
        "\n",
        "https://colab.research.google.com/github/jfogarty/machine-learning-intro-workshop/blob/master/notebooks/nn_activation_functions.ipynb\n",
        "\n",
        "https://colab.research.google.com/github/maticvl/dataHacker/blob/master/NN/NN_009_Activation_Functions_and_their_derivatives.ipynb"
      ],
      "metadata": {
        "id": "12JF5WyB1dsw"
      }
    }
  ]
}